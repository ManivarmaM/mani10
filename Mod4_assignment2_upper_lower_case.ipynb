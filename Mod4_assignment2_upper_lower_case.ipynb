{
 "cells": [
  {
   "cell_type": "code",
   "execution_count": 13,
   "metadata": {},
   "outputs": [
    {
     "name": "stdout",
     "output_type": "stream",
     "text": [
      "No. of Upper case characters : 4\n",
      "No. of Lower case Characters : 33\n"
     ]
    }
   ],
   "source": [
    "def string_test(s):\n",
    "    d={\"uppercase\":0, \"lowercase\":0}\n",
    "    for c in s:\n",
    "        if c.isupper():\n",
    "            d[\"uppercase\"]+=1\n",
    "        elif c.islower():\n",
    "            d[\"lowercase\"]+=1\n",
    "        else:\n",
    "            pass\n",
    "    print (\"No. of Upper case characters :\",d[\"uppercase\"])\n",
    "    print (\"No. of Lower case Characters :\",d[\"lowercase\"])\n",
    "\n",
    "string_test('Hello Mr.Rogers, how are you this fine Tuesday?')"
   ]
  },
  {
   "cell_type": "code",
   "execution_count": null,
   "metadata": {},
   "outputs": [],
   "source": []
  }
 ],
 "metadata": {
  "kernelspec": {
   "display_name": "Python 3",
   "language": "python",
   "name": "python3"
  },
  "language_info": {
   "codemirror_mode": {
    "name": "ipython",
    "version": 3
   },
   "file_extension": ".py",
   "mimetype": "text/x-python",
   "name": "python",
   "nbconvert_exporter": "python",
   "pygments_lexer": "ipython3",
   "version": "3.8.3"
  }
 },
 "nbformat": 4,
 "nbformat_minor": 4
}
